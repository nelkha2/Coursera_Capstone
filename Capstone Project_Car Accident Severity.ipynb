{
 "cells": [
  {
   "cell_type": "markdown",
   "metadata": {},
   "source": [
    "# Capstone Project: Accident Severity Prediction"
   ]
  },
  {
   "cell_type": "markdown",
   "metadata": {},
   "source": [
    "### Introduction / Business Problem\n",
    "The City Municipality of Seattle (target audience) is facing a deficiency in the budget that is dedicated to addressing damage caused by car accidents, budget is mainly used for covering the cost of both human (health) recovery and property damage. One of the areas the city can improve within is the deployment and allocation of resources, it has been identified that resources have been deployed in situations where they couldn't add value in remediating or controlling the damage caused by car accidents. For example, medical staff such as EMT's cannot add value if there are no human injuries caused by an accident, therefore deploying them to the accident location is a waste of resource usage."
   ]
  },
  {
   "cell_type": "markdown",
   "metadata": {},
   "source": [
    "### Goal\n",
    "The Municipality of Seattle’s main goal is to allocate medical and natural damage control resources more efficiently and effectively based on the predicted severity type of an accident. If an accident severity is level 2 (human injuries outcome of an accident), then more medical resources such as ambulances & EMT's can be deployed. If an accident severity is level 1 (property damage outcome of an accident), then more of resources that address controlling damage caused by natural factors (tornadoes, storms, etc.) to physical property such as firefighters can be deployed."
   ]
  },
  {
   "cell_type": "markdown",
   "metadata": {},
   "source": [
    "### Data Overview and Usage\n",
    "The Dataset is owned by the Settle Department of Transportation who will grant Seattle's Municipality access to it, it's made up of 38 columns, 194673 rows, and comprises of attributes that describe existing features of when car accidents occurred and outcomes caused by such accidents. \n",
    "Data will serve as an input to build a machine learning mechanism that predicts the severity type of an accident based on key factors causing the accident. The key factors are either human behavior or natural events causing the accidents. Human behavior factors are Drivers' Under the Influence, Speeding, & Not Granting Right of Way to a Pedestrian; these will serve as the X (independent) variables. Natural events factor entails the Weather Condition attribute, which will also serve as an X (independent) variable.\n",
    "The Y (dependent) variable will be the severity type since we are trying to predict it.\n",
    "If the severity level can be predicted, then the city can allocate appropriate emergency staff for efficiently addressing the damage caused by the car accident.\n",
    "\n",
    "\n"
   ]
  },
  {
   "cell_type": "markdown",
   "metadata": {},
   "source": [
    "### Resources \n",
    "Raw Data: https://s3.us.cloud-object-storage.appdomain.cloud/cf-courses-data/CognitiveClass/DP0701EN/version-2/Data-Collisions.csv \n",
    "\n",
    "Balancing Datasets: \n",
    "\n",
    "https://elitedatascience.com/imbalanced-classes\n",
    "\n",
    "https://towardsdatascience.com/handling-imbalanced-datasets-in-machine-learning-7a0e84220f28"
   ]
  },
  {
   "cell_type": "markdown",
   "metadata": {},
   "source": [
    "# Libraries"
   ]
  },
  {
   "cell_type": "code",
   "execution_count": 1,
   "metadata": {},
   "outputs": [],
   "source": [
    "# Libraries\n",
    "# Dataframes, arrays, and graphing\n",
    "import pandas as pd\n",
    "import numpy as np\n",
    "import matplotlib.pyplot as plt\n",
    "%matplotlib inline\n",
    "import os\n",
    "\n",
    "# Modeling related libraries\n",
    "from sklearn import preprocessing\n",
    "from sklearn.model_selection import train_test_split\n",
    "from sklearn.tree import DecisionTreeClassifier\n",
    "from sklearn import metrics\n",
    "from sklearn.linear_model import LogisticRegression\n",
    "from sklearn.neighbors import KNeighborsClassifier\n",
    "from sklearn import svm\n",
    "from sklearn.utils import resample\n",
    "from sklearn.ensemble import RandomForestClassifier"
   ]
  },
  {
   "cell_type": "markdown",
   "metadata": {},
   "source": [
    "# Data Pre-Processing"
   ]
  },
  {
   "cell_type": "code",
   "execution_count": 2,
   "metadata": {},
   "outputs": [
    {
     "name": "stdout",
     "output_type": "stream",
     "text": [
      "--2020-09-05 21:58:31--  https://s3.us.cloud-object-storage.appdomain.cloud/cf-courses-data/CognitiveClass/DP0701EN/version-2/Data-Collisions.csv\n",
      "Resolving s3.us.cloud-object-storage.appdomain.cloud (s3.us.cloud-object-storage.appdomain.cloud)... 67.228.254.196\n",
      "Connecting to s3.us.cloud-object-storage.appdomain.cloud (s3.us.cloud-object-storage.appdomain.cloud)|67.228.254.196|:443... connected.\n",
      "HTTP request sent, awaiting response... 200 OK\n",
      "Length: 73917638 (70M) [text/csv]\n",
      "Saving to: ‘Data-Collisions.csv’\n",
      "\n",
      "Data-Collisions.csv 100%[===================>]  70.49M  22.3MB/s    in 3.2s    \n",
      "\n",
      "2020-09-05 21:58:35 (21.7 MB/s) - ‘Data-Collisions.csv’ saved [73917638/73917638]\n",
      "\n"
     ]
    }
   ],
   "source": [
    "#download data\n",
    "!wget -O Data-Collisions.csv https://s3.us.cloud-object-storage.appdomain.cloud/cf-courses-data/CognitiveClass/DP0701EN/version-2/Data-Collisions.csv"
   ]
  },
  {
   "cell_type": "code",
   "execution_count": 2,
   "metadata": {},
   "outputs": [
    {
     "name": "stderr",
     "output_type": "stream",
     "text": [
      "/home/jupyterlab/conda/envs/python/lib/python3.6/site-packages/IPython/core/interactiveshell.py:3072: DtypeWarning: Columns (33) have mixed types.Specify dtype option on import or set low_memory=False.\n",
      "  interactivity=interactivity, compiler=compiler, result=result)\n"
     ]
    },
    {
     "data": {
      "text/html": [
       "<div>\n",
       "<style scoped>\n",
       "    .dataframe tbody tr th:only-of-type {\n",
       "        vertical-align: middle;\n",
       "    }\n",
       "\n",
       "    .dataframe tbody tr th {\n",
       "        vertical-align: top;\n",
       "    }\n",
       "\n",
       "    .dataframe thead th {\n",
       "        text-align: right;\n",
       "    }\n",
       "</style>\n",
       "<table border=\"1\" class=\"dataframe\">\n",
       "  <thead>\n",
       "    <tr style=\"text-align: right;\">\n",
       "      <th></th>\n",
       "      <th>SEVERITYCODE</th>\n",
       "      <th>X</th>\n",
       "      <th>Y</th>\n",
       "      <th>OBJECTID</th>\n",
       "      <th>INCKEY</th>\n",
       "      <th>COLDETKEY</th>\n",
       "      <th>REPORTNO</th>\n",
       "      <th>STATUS</th>\n",
       "      <th>ADDRTYPE</th>\n",
       "      <th>INTKEY</th>\n",
       "      <th>...</th>\n",
       "      <th>ROADCOND</th>\n",
       "      <th>LIGHTCOND</th>\n",
       "      <th>PEDROWNOTGRNT</th>\n",
       "      <th>SDOTCOLNUM</th>\n",
       "      <th>SPEEDING</th>\n",
       "      <th>ST_COLCODE</th>\n",
       "      <th>ST_COLDESC</th>\n",
       "      <th>SEGLANEKEY</th>\n",
       "      <th>CROSSWALKKEY</th>\n",
       "      <th>HITPARKEDCAR</th>\n",
       "    </tr>\n",
       "  </thead>\n",
       "  <tbody>\n",
       "    <tr>\n",
       "      <th>0</th>\n",
       "      <td>2</td>\n",
       "      <td>-122.323148</td>\n",
       "      <td>47.703140</td>\n",
       "      <td>1</td>\n",
       "      <td>1307</td>\n",
       "      <td>1307</td>\n",
       "      <td>3502005</td>\n",
       "      <td>Matched</td>\n",
       "      <td>Intersection</td>\n",
       "      <td>37475.0</td>\n",
       "      <td>...</td>\n",
       "      <td>Wet</td>\n",
       "      <td>Daylight</td>\n",
       "      <td>NaN</td>\n",
       "      <td>NaN</td>\n",
       "      <td>NaN</td>\n",
       "      <td>10</td>\n",
       "      <td>Entering at angle</td>\n",
       "      <td>0</td>\n",
       "      <td>0</td>\n",
       "      <td>N</td>\n",
       "    </tr>\n",
       "    <tr>\n",
       "      <th>1</th>\n",
       "      <td>1</td>\n",
       "      <td>-122.347294</td>\n",
       "      <td>47.647172</td>\n",
       "      <td>2</td>\n",
       "      <td>52200</td>\n",
       "      <td>52200</td>\n",
       "      <td>2607959</td>\n",
       "      <td>Matched</td>\n",
       "      <td>Block</td>\n",
       "      <td>NaN</td>\n",
       "      <td>...</td>\n",
       "      <td>Wet</td>\n",
       "      <td>Dark - Street Lights On</td>\n",
       "      <td>NaN</td>\n",
       "      <td>6354039.0</td>\n",
       "      <td>NaN</td>\n",
       "      <td>11</td>\n",
       "      <td>From same direction - both going straight - bo...</td>\n",
       "      <td>0</td>\n",
       "      <td>0</td>\n",
       "      <td>N</td>\n",
       "    </tr>\n",
       "    <tr>\n",
       "      <th>2</th>\n",
       "      <td>1</td>\n",
       "      <td>-122.334540</td>\n",
       "      <td>47.607871</td>\n",
       "      <td>3</td>\n",
       "      <td>26700</td>\n",
       "      <td>26700</td>\n",
       "      <td>1482393</td>\n",
       "      <td>Matched</td>\n",
       "      <td>Block</td>\n",
       "      <td>NaN</td>\n",
       "      <td>...</td>\n",
       "      <td>Dry</td>\n",
       "      <td>Daylight</td>\n",
       "      <td>NaN</td>\n",
       "      <td>4323031.0</td>\n",
       "      <td>NaN</td>\n",
       "      <td>32</td>\n",
       "      <td>One parked--one moving</td>\n",
       "      <td>0</td>\n",
       "      <td>0</td>\n",
       "      <td>N</td>\n",
       "    </tr>\n",
       "    <tr>\n",
       "      <th>3</th>\n",
       "      <td>1</td>\n",
       "      <td>-122.334803</td>\n",
       "      <td>47.604803</td>\n",
       "      <td>4</td>\n",
       "      <td>1144</td>\n",
       "      <td>1144</td>\n",
       "      <td>3503937</td>\n",
       "      <td>Matched</td>\n",
       "      <td>Block</td>\n",
       "      <td>NaN</td>\n",
       "      <td>...</td>\n",
       "      <td>Dry</td>\n",
       "      <td>Daylight</td>\n",
       "      <td>NaN</td>\n",
       "      <td>NaN</td>\n",
       "      <td>NaN</td>\n",
       "      <td>23</td>\n",
       "      <td>From same direction - all others</td>\n",
       "      <td>0</td>\n",
       "      <td>0</td>\n",
       "      <td>N</td>\n",
       "    </tr>\n",
       "    <tr>\n",
       "      <th>4</th>\n",
       "      <td>2</td>\n",
       "      <td>-122.306426</td>\n",
       "      <td>47.545739</td>\n",
       "      <td>5</td>\n",
       "      <td>17700</td>\n",
       "      <td>17700</td>\n",
       "      <td>1807429</td>\n",
       "      <td>Matched</td>\n",
       "      <td>Intersection</td>\n",
       "      <td>34387.0</td>\n",
       "      <td>...</td>\n",
       "      <td>Wet</td>\n",
       "      <td>Daylight</td>\n",
       "      <td>NaN</td>\n",
       "      <td>4028032.0</td>\n",
       "      <td>NaN</td>\n",
       "      <td>10</td>\n",
       "      <td>Entering at angle</td>\n",
       "      <td>0</td>\n",
       "      <td>0</td>\n",
       "      <td>N</td>\n",
       "    </tr>\n",
       "  </tbody>\n",
       "</table>\n",
       "<p>5 rows × 38 columns</p>\n",
       "</div>"
      ],
      "text/plain": [
       "   SEVERITYCODE           X          Y  OBJECTID  INCKEY  COLDETKEY REPORTNO  \\\n",
       "0             2 -122.323148  47.703140         1    1307       1307  3502005   \n",
       "1             1 -122.347294  47.647172         2   52200      52200  2607959   \n",
       "2             1 -122.334540  47.607871         3   26700      26700  1482393   \n",
       "3             1 -122.334803  47.604803         4    1144       1144  3503937   \n",
       "4             2 -122.306426  47.545739         5   17700      17700  1807429   \n",
       "\n",
       "    STATUS      ADDRTYPE   INTKEY  ... ROADCOND                LIGHTCOND  \\\n",
       "0  Matched  Intersection  37475.0  ...      Wet                 Daylight   \n",
       "1  Matched         Block      NaN  ...      Wet  Dark - Street Lights On   \n",
       "2  Matched         Block      NaN  ...      Dry                 Daylight   \n",
       "3  Matched         Block      NaN  ...      Dry                 Daylight   \n",
       "4  Matched  Intersection  34387.0  ...      Wet                 Daylight   \n",
       "\n",
       "  PEDROWNOTGRNT  SDOTCOLNUM SPEEDING ST_COLCODE  \\\n",
       "0           NaN         NaN      NaN         10   \n",
       "1           NaN   6354039.0      NaN         11   \n",
       "2           NaN   4323031.0      NaN         32   \n",
       "3           NaN         NaN      NaN         23   \n",
       "4           NaN   4028032.0      NaN         10   \n",
       "\n",
       "                                          ST_COLDESC  SEGLANEKEY  \\\n",
       "0                                  Entering at angle           0   \n",
       "1  From same direction - both going straight - bo...           0   \n",
       "2                             One parked--one moving           0   \n",
       "3                   From same direction - all others           0   \n",
       "4                                  Entering at angle           0   \n",
       "\n",
       "   CROSSWALKKEY  HITPARKEDCAR  \n",
       "0             0             N  \n",
       "1             0             N  \n",
       "2             0             N  \n",
       "3             0             N  \n",
       "4             0             N  \n",
       "\n",
       "[5 rows x 38 columns]"
      ]
     },
     "execution_count": 2,
     "metadata": {},
     "output_type": "execute_result"
    }
   ],
   "source": [
    "# read data\n",
    "df = pd.read_csv('Data-Collisions.csv')\n",
    "df.head()"
   ]
  },
  {
   "cell_type": "code",
   "execution_count": 4,
   "metadata": {},
   "outputs": [
    {
     "name": "stdout",
     "output_type": "stream",
     "text": [
      "size: (194673, 38)\n",
      "SEVERITYCODE        int64\n",
      "X                 float64\n",
      "Y                 float64\n",
      "OBJECTID            int64\n",
      "INCKEY              int64\n",
      "COLDETKEY           int64\n",
      "REPORTNO           object\n",
      "STATUS             object\n",
      "ADDRTYPE           object\n",
      "INTKEY            float64\n",
      "LOCATION           object\n",
      "EXCEPTRSNCODE      object\n",
      "EXCEPTRSNDESC      object\n",
      "SEVERITYCODE.1      int64\n",
      "SEVERITYDESC       object\n",
      "COLLISIONTYPE      object\n",
      "PERSONCOUNT         int64\n",
      "PEDCOUNT            int64\n",
      "PEDCYLCOUNT         int64\n",
      "VEHCOUNT            int64\n",
      "INCDATE            object\n",
      "INCDTTM            object\n",
      "JUNCTIONTYPE       object\n",
      "SDOT_COLCODE        int64\n",
      "SDOT_COLDESC       object\n",
      "INATTENTIONIND     object\n",
      "UNDERINFL          object\n",
      "WEATHER            object\n",
      "ROADCOND           object\n",
      "LIGHTCOND          object\n",
      "PEDROWNOTGRNT      object\n",
      "SDOTCOLNUM        float64\n",
      "SPEEDING           object\n",
      "ST_COLCODE         object\n",
      "ST_COLDESC         object\n",
      "SEGLANEKEY          int64\n",
      "CROSSWALKKEY        int64\n",
      "HITPARKEDCAR       object\n",
      "dtype: object\n"
     ]
    }
   ],
   "source": [
    "#Exploring data: size and data types \n",
    "print(\"size:\",df.shape)\n",
    "print(df.dtypes)"
   ]
  },
  {
   "cell_type": "code",
   "execution_count": 5,
   "metadata": {},
   "outputs": [],
   "source": [
    "# X attributes input to Model(s): UNDERINFL (object), SPEEDING (object), PEDROWNOTGRNT (object), WEATHER (object)\n",
    "# Y attribute to predict via Model(s): SEVERITYCODE (int64)"
   ]
  },
  {
   "cell_type": "code",
   "execution_count": 6,
   "metadata": {},
   "outputs": [
    {
     "name": "stdout",
     "output_type": "stream",
     "text": [
      "UNDERINFL: ['N' '0' nan '1' 'Y']\n",
      "SPEEDING: [nan 'Y']\n",
      "PEDROWNOTGRNT: [nan 'Y']\n",
      "WEATHER: ['Overcast' 'Raining' 'Clear' nan 'Unknown' 'Other' 'Snowing'\n",
      " 'Fog/Smog/Smoke' 'Sleet/Hail/Freezing Rain' 'Blowing Sand/Dirt'\n",
      " 'Severe Crosswind' 'Partly Cloudy']\n"
     ]
    }
   ],
   "source": [
    "# Exploring X features\n",
    "print(\"UNDERINFL:\",df.UNDERINFL.unique())\n",
    "print(\"SPEEDING:\",df.SPEEDING.unique())\n",
    "print(\"PEDROWNOTGRNT:\",df.PEDROWNOTGRNT.unique())\n",
    "print(\"WEATHER:\",df.WEATHER.unique())"
   ]
  },
  {
   "cell_type": "code",
   "execution_count": 7,
   "metadata": {},
   "outputs": [
    {
     "data": {
      "text/plain": [
       "array([2, 1])"
      ]
     },
     "execution_count": 7,
     "metadata": {},
     "output_type": "execute_result"
    }
   ],
   "source": [
    "# Exploring Y features\n",
    "df.SEVERITYCODE.unique()"
   ]
  },
  {
   "cell_type": "markdown",
   "metadata": {},
   "source": [
    "## Normal / Unbalanced Dataset\n"
   ]
  },
  {
   "cell_type": "raw",
   "metadata": {},
   "source": [
    "1st choice for model input"
   ]
  },
  {
   "cell_type": "code",
   "execution_count": 8,
   "metadata": {},
   "outputs": [
    {
     "name": "stdout",
     "output_type": "stream",
     "text": [
      "['N' 'Y']\n",
      "['N' 'Y']\n",
      "['N' 'Y']\n",
      "['Overcast' 'Raining' 'Clear' 'Unknown' 'Other' 'Snowing' 'Fog/Smog/Smoke'\n",
      " 'Sleet/Hail/Freezing Rain' 'Blowing Sand/Dirt' 'Severe Crosswind'\n",
      " 'Partly Cloudy']\n",
      "--------------------------\n",
      "df_amended shape: (194673, 38)\n"
     ]
    }
   ],
   "source": [
    "# Fixing X features\n",
    "# UNDERINFL: Replace 1's with Y, replace blanks & 0's with N b/c the goal here is to identify if the driver was under the influence of a substance, the substance type doesn't matter\n",
    "# SPEEDING, PEDROWNOTGRNT: Replace blanks with N, assume blanks mean these weren't factors in the associated observations \n",
    "# WEATHER: Replace blanks with Unknown, assume weather condidtion wasn't known for the associated observations\n",
    "\n",
    "df_amended = df\n",
    "df_amended['UNDERINFL'].replace(\"1\",\"Y\", inplace=True)\n",
    "df_amended['UNDERINFL'].replace(\"0\",\"N\", inplace=True)\n",
    "df_amended['UNDERINFL'].replace(np.nan,\"N\", inplace=True)\n",
    "\n",
    "df_amended['SPEEDING'].replace(np.nan,\"N\", inplace=True)\n",
    "df_amended['WEATHER'].replace(np.nan,\"Unknown\", inplace=True)\n",
    "df_amended['PEDROWNOTGRNT'].replace(np.nan,\"N\", inplace=True)\n",
    "\n",
    "# Quality Check: Ensure replacement actions worked \n",
    "print(df_amended.UNDERINFL.unique())\n",
    "print(df_amended.SPEEDING.unique())\n",
    "print(df_amended.PEDROWNOTGRNT.unique())\n",
    "print(df_amended.WEATHER.unique())\n",
    "\n",
    "# Keeping track of dataframe shape \n",
    "print(\"--------------------------\")\n",
    "print(\"df_amended shape:\",df_amended.shape)"
   ]
  },
  {
   "cell_type": "code",
   "execution_count": 9,
   "metadata": {},
   "outputs": [],
   "source": [
    "#--------------------------------------------"
   ]
  },
  {
   "cell_type": "markdown",
   "metadata": {},
   "source": [
    "## Balancing Dataset"
   ]
  },
  {
   "cell_type": "raw",
   "metadata": {},
   "source": [
    "Goal is to explore the impact of using a balanced the dataset on model performance.\n",
    "Demonstrated below the down-sampling of majority class technique."
   ]
  },
  {
   "cell_type": "code",
   "execution_count": 10,
   "metadata": {},
   "outputs": [
    {
     "data": {
      "text/plain": [
       "1    136485\n",
       "2     58188\n",
       "Name: SEVERITYCODE, dtype: int64"
      ]
     },
     "execution_count": 10,
     "metadata": {},
     "output_type": "execute_result"
    }
   ],
   "source": [
    "# Balance Dataset\n",
    "# serverity code 1 dominates the dataset\n",
    "df_amended['SEVERITYCODE'].value_counts()"
   ]
  },
  {
   "cell_type": "code",
   "execution_count": 11,
   "metadata": {},
   "outputs": [
    {
     "name": "stdout",
     "output_type": "stream",
     "text": [
      "majority df: (136485, 5)\n",
      "minority df: (58188, 5)\n"
     ]
    }
   ],
   "source": [
    "# Balance Dataset: Downsample Majority Class\n",
    "# Reduce number of dominant class observations randomly \n",
    "\n",
    "# Separate majority and minority classes\n",
    "df_amended_majority = df_amended[['SEVERITYCODE','UNDERINFL', 'SPEEDING', 'PEDROWNOTGRNT', 'WEATHER']]\n",
    "df_amended_majority = df_amended_majority[df_amended_majority.SEVERITYCODE==1]\n",
    "\n",
    "df_amended_minority = df_amended[['SEVERITYCODE','UNDERINFL', 'SPEEDING', 'PEDROWNOTGRNT', 'WEATHER']]\n",
    "df_amended_minority = df_amended_minority[df_amended_minority.SEVERITYCODE==2]\n",
    "\n",
    "# Ensure segregation occured\n",
    "print(\"majority df:\", df_amended_majority.shape)\n",
    "print(\"minority df:\", df_amended_minority.shape)\n"
   ]
  },
  {
   "cell_type": "code",
   "execution_count": 12,
   "metadata": {},
   "outputs": [
    {
     "data": {
      "text/plain": [
       "(58188, 5)"
      ]
     },
     "execution_count": 12,
     "metadata": {},
     "output_type": "execute_result"
    }
   ],
   "source": [
    "# Balance Dataset: Downsample Majority Class\n",
    "# Create DF with downsized observations \n",
    "df_amended_majority_downsampled = resample(df_amended_majority, replace=False, n_samples=58188,random_state=123)\n",
    "\n",
    "# Confirm observations count of majority class reduced \n",
    "df_amended_majority_downsampled.shape"
   ]
  },
  {
   "cell_type": "code",
   "execution_count": 13,
   "metadata": {},
   "outputs": [
    {
     "data": {
      "text/plain": [
       "2    58188\n",
       "1    58188\n",
       "Name: SEVERITYCODE, dtype: int64"
      ]
     },
     "execution_count": 13,
     "metadata": {},
     "output_type": "execute_result"
    }
   ],
   "source": [
    "# Balance Dataset: Downsample Majority Class\n",
    "# Downsized Sample DF - Combine minority with downsampled majority class \n",
    "df_downsampled = pd.concat([df_amended_majority_downsampled, df_amended_minority])\n",
    "\n",
    "# Verify dataset balanced\n",
    "df_downsampled.SEVERITYCODE.value_counts()"
   ]
  },
  {
   "cell_type": "code",
   "execution_count": 14,
   "metadata": {},
   "outputs": [
    {
     "name": "stderr",
     "output_type": "stream",
     "text": [
      "/home/jupyterlab/conda/envs/python/lib/python3.6/site-packages/pandas/core/indexing.py:1048: SettingWithCopyWarning: \n",
      "A value is trying to be set on a copy of a slice from a DataFrame.\n",
      "Try using .loc[row_indexer,col_indexer] = value instead\n",
      "\n",
      "See the caveats in the documentation: https://pandas.pydata.org/pandas-docs/stable/user_guide/indexing.html#returning-a-view-versus-a-copy\n",
      "  self.obj[item_labels[indexer[info_axis]]] = value\n",
      "/home/jupyterlab/conda/envs/python/lib/python3.6/site-packages/pandas/core/indexing.py:966: SettingWithCopyWarning: \n",
      "A value is trying to be set on a copy of a slice from a DataFrame.\n",
      "Try using .loc[row_indexer,col_indexer] = value instead\n",
      "\n",
      "See the caveats in the documentation: https://pandas.pydata.org/pandas-docs/stable/user_guide/indexing.html#returning-a-view-versus-a-copy\n",
      "  self.obj[item] = s\n"
     ]
    },
    {
     "name": "stdout",
     "output_type": "stream",
     "text": [
      "X with normal dataset shape: (194673, 4)\n",
      "y with normal dataset shape: (194673,)\n",
      "X with balanced dataset shape: (116376, 4)\n",
      "y with balanced dataset shape: (116376,)\n"
     ]
    }
   ],
   "source": [
    "# # One Hot Encoding & Transforming\n",
    "# X array\n",
    "# X with normal / unbalanced dataset\n",
    "X = df_amended[['UNDERINFL', 'SPEEDING', 'PEDROWNOTGRNT', 'WEATHER']]\n",
    "# X with balanced dataset (down-sampled)\n",
    "X_balanced = df_downsampled[['UNDERINFL', 'SPEEDING', 'PEDROWNOTGRNT', 'WEATHER']]\n",
    "\n",
    "\n",
    "# Encode each X feature \n",
    "le_UNDERINFL = preprocessing.LabelEncoder()\n",
    "le_UNDERINFL.fit(['Y','N'])\n",
    "# X with normal dataset\n",
    "X.iloc[:,0] = le_UNDERINFL.transform(X.iloc[:,0]) \n",
    "# X with balanced dataset\n",
    "X_balanced.iloc[:,0] = le_UNDERINFL.transform(X_balanced.iloc[:,0]) \n",
    "\n",
    "le_SPEEDING = preprocessing.LabelEncoder()\n",
    "le_SPEEDING.fit(['Y','N'])\n",
    "# X with normal dataset\n",
    "X.iloc[:,1] = le_SPEEDING.transform(X.iloc[:,1])\n",
    "# X with balanced dataset\n",
    "X_balanced.iloc[:,1] = le_SPEEDING.transform(X_balanced.iloc[:,1])\n",
    "\n",
    "le_PEDROWNOTGRNT = preprocessing.LabelEncoder()\n",
    "le_PEDROWNOTGRNT.fit(['Y','N'])\n",
    "# X with normal dataset\n",
    "X.iloc[:,2] = le_PEDROWNOTGRNT.transform(X.iloc[:,2])\n",
    "# X with balanced dataset\n",
    "X_balanced.iloc[:,2] = le_PEDROWNOTGRNT.transform(X_balanced.iloc[:,2])\n",
    "\n",
    "le_WEATHER = preprocessing.LabelEncoder()\n",
    "le_WEATHER.fit(['Overcast','Raining','Clear','Unknown','Other','Snowing','Fog/Smog/Smoke','Sleet/Hail/Freezing Rain','Blowing Sand/Dirt','Severe Crosswind','Partly Cloudy'])\n",
    "# X with normal dataset\n",
    "X.iloc[:,3] = le_WEATHER.transform(X.iloc[:,3])\n",
    "# X with balanced dataset\n",
    "X_balanced.iloc[:,3] = le_WEATHER.transform(X_balanced.iloc[:,3])\n",
    "\n",
    "# #y array \n",
    "# y with normal dataset\n",
    "y = df_amended[\"SEVERITYCODE\"]\n",
    "# y with balanced data set (down-sampled)\n",
    "y_balanced = df_downsampled[\"SEVERITYCODE\"]\n",
    "\n",
    "\n",
    "# Quality Check: Ensure row count of X and y are equal\n",
    "print(\"X with normal dataset shape:\", X.shape)\n",
    "print(\"y with normal dataset shape:\", y.shape)\n",
    "print(\"X with balanced dataset shape:\", X_balanced.shape)\n",
    "print(\"y with balanced dataset shape:\", y_balanced.shape)"
   ]
  },
  {
   "cell_type": "code",
   "execution_count": 15,
   "metadata": {},
   "outputs": [
    {
     "data": {
      "text/html": [
       "<div>\n",
       "<style scoped>\n",
       "    .dataframe tbody tr th:only-of-type {\n",
       "        vertical-align: middle;\n",
       "    }\n",
       "\n",
       "    .dataframe tbody tr th {\n",
       "        vertical-align: top;\n",
       "    }\n",
       "\n",
       "    .dataframe thead th {\n",
       "        text-align: right;\n",
       "    }\n",
       "</style>\n",
       "<table border=\"1\" class=\"dataframe\">\n",
       "  <thead>\n",
       "    <tr style=\"text-align: right;\">\n",
       "      <th></th>\n",
       "      <th>UNDERINFL</th>\n",
       "      <th>SPEEDING</th>\n",
       "      <th>PEDROWNOTGRNT</th>\n",
       "      <th>WEATHER</th>\n",
       "    </tr>\n",
       "  </thead>\n",
       "  <tbody>\n",
       "    <tr>\n",
       "      <th>0</th>\n",
       "      <td>0</td>\n",
       "      <td>0</td>\n",
       "      <td>0</td>\n",
       "      <td>4</td>\n",
       "    </tr>\n",
       "    <tr>\n",
       "      <th>1</th>\n",
       "      <td>0</td>\n",
       "      <td>0</td>\n",
       "      <td>0</td>\n",
       "      <td>6</td>\n",
       "    </tr>\n",
       "    <tr>\n",
       "      <th>2</th>\n",
       "      <td>0</td>\n",
       "      <td>0</td>\n",
       "      <td>0</td>\n",
       "      <td>4</td>\n",
       "    </tr>\n",
       "    <tr>\n",
       "      <th>3</th>\n",
       "      <td>0</td>\n",
       "      <td>0</td>\n",
       "      <td>0</td>\n",
       "      <td>1</td>\n",
       "    </tr>\n",
       "    <tr>\n",
       "      <th>4</th>\n",
       "      <td>0</td>\n",
       "      <td>0</td>\n",
       "      <td>0</td>\n",
       "      <td>6</td>\n",
       "    </tr>\n",
       "  </tbody>\n",
       "</table>\n",
       "</div>"
      ],
      "text/plain": [
       "   UNDERINFL  SPEEDING  PEDROWNOTGRNT  WEATHER\n",
       "0          0         0              0        4\n",
       "1          0         0              0        6\n",
       "2          0         0              0        4\n",
       "3          0         0              0        1\n",
       "4          0         0              0        6"
      ]
     },
     "execution_count": 15,
     "metadata": {},
     "output_type": "execute_result"
    }
   ],
   "source": [
    "# Display samples from transformed X (normal data)\n",
    "X.head()"
   ]
  },
  {
   "cell_type": "code",
   "execution_count": 16,
   "metadata": {},
   "outputs": [
    {
     "data": {
      "text/plain": [
       "0    2\n",
       "1    1\n",
       "2    1\n",
       "3    1\n",
       "4    2\n",
       "Name: SEVERITYCODE, dtype: int64"
      ]
     },
     "execution_count": 16,
     "metadata": {},
     "output_type": "execute_result"
    }
   ],
   "source": [
    "# Depedent (y) variable with normal data\n",
    "y.head()"
   ]
  },
  {
   "cell_type": "markdown",
   "metadata": {},
   "source": [
    "# Model: Decision Tree with normal (unbalanced) dataset"
   ]
  },
  {
   "cell_type": "code",
   "execution_count": 17,
   "metadata": {},
   "outputs": [],
   "source": [
    "#Split Data: Test & Train \n",
    "# Use in all models\n",
    "X_trainset, X_testset, y_trainset, y_testset = train_test_split(X, y, test_size=0.3, random_state=42)"
   ]
  },
  {
   "cell_type": "code",
   "execution_count": 18,
   "metadata": {},
   "outputs": [
    {
     "data": {
      "text/plain": [
       "DecisionTreeClassifier(class_weight=None, criterion='gini', max_depth=None,\n",
       "            max_features=None, max_leaf_nodes=None,\n",
       "            min_impurity_decrease=0.0, min_impurity_split=None,\n",
       "            min_samples_leaf=1, min_samples_split=2,\n",
       "            min_weight_fraction_leaf=0.0, presort=False, random_state=None,\n",
       "            splitter='best')"
      ]
     },
     "execution_count": 18,
     "metadata": {},
     "output_type": "execute_result"
    }
   ],
   "source": [
    "# Create Model\n",
    "# tree = DecisionTreeClassifier(criterion=\"entropy\")\n",
    "tree = DecisionTreeClassifier(criterion=\"gini\")\n",
    "tree "
   ]
  },
  {
   "cell_type": "code",
   "execution_count": 19,
   "metadata": {},
   "outputs": [
    {
     "data": {
      "text/plain": [
       "DecisionTreeClassifier(class_weight=None, criterion='gini', max_depth=None,\n",
       "            max_features=None, max_leaf_nodes=None,\n",
       "            min_impurity_decrease=0.0, min_impurity_split=None,\n",
       "            min_samples_leaf=1, min_samples_split=2,\n",
       "            min_weight_fraction_leaf=0.0, presort=False, random_state=None,\n",
       "            splitter='best')"
      ]
     },
     "execution_count": 19,
     "metadata": {},
     "output_type": "execute_result"
    }
   ],
   "source": [
    "# Fit / Train Model\n",
    "tree.fit(X_trainset,y_trainset)"
   ]
  },
  {
   "cell_type": "code",
   "execution_count": 20,
   "metadata": {},
   "outputs": [
    {
     "data": {
      "text/plain": [
       "array([1, 1, 1, 1, 1, 1, 1, 1, 1, 1])"
      ]
     },
     "execution_count": 20,
     "metadata": {},
     "output_type": "execute_result"
    }
   ],
   "source": [
    "# Predict\n",
    "yhat_tree = tree.predict(X_testset)\n",
    "yhat_tree[0:10]"
   ]
  },
  {
   "cell_type": "code",
   "execution_count": 21,
   "metadata": {},
   "outputs": [
    {
     "name": "stdout",
     "output_type": "stream",
     "text": [
      "F1-Score: 0.6304290300738228\n",
      "Jaccard Index: 0.7234683743707407\n"
     ]
    }
   ],
   "source": [
    "# Evaluate\n",
    "fscore_tree = metrics.f1_score(y_testset, yhat_tree, average='weighted')\n",
    "jaccard_tree = metrics.jaccard_similarity_score(y_testset, yhat_tree)\n",
    "print(\"F1-Score:\",fscore_tree)\n",
    "print(\"Jaccard Index:\",jaccard_tree)"
   ]
  },
  {
   "cell_type": "code",
   "execution_count": 46,
   "metadata": {},
   "outputs": [
    {
     "data": {
      "text/plain": [
       "[(0.626888666113754, 'PEDROWNOTGRNT'),\n",
       " (0.3298150506678249, 'WEATHER'),\n",
       " (0.02427228733607007, 'UNDERINFL'),\n",
       " (0.01902399588235101, 'SPEEDING')]"
      ]
     },
     "execution_count": 46,
     "metadata": {},
     "output_type": "execute_result"
    }
   ],
   "source": [
    "# X features importance\n",
    "feature_names = X.columns\n",
    "importance_un_DT= sorted(zip(tree.feature_importances_, feature_names), reverse=True)\n",
    "importance_un_DT"
   ]
  },
  {
   "cell_type": "code",
   "execution_count": 80,
   "metadata": {},
   "outputs": [
    {
     "data": {
      "text/html": [
       "<div>\n",
       "<style scoped>\n",
       "    .dataframe tbody tr th:only-of-type {\n",
       "        vertical-align: middle;\n",
       "    }\n",
       "\n",
       "    .dataframe tbody tr th {\n",
       "        vertical-align: top;\n",
       "    }\n",
       "\n",
       "    .dataframe thead th {\n",
       "        text-align: right;\n",
       "    }\n",
       "</style>\n",
       "<table border=\"1\" class=\"dataframe\">\n",
       "  <thead>\n",
       "    <tr style=\"text-align: right;\">\n",
       "      <th></th>\n",
       "      <th>Score</th>\n",
       "      <th>Feature</th>\n",
       "      <th>Model_Dataset</th>\n",
       "    </tr>\n",
       "  </thead>\n",
       "  <tbody>\n",
       "    <tr>\n",
       "      <th>0</th>\n",
       "      <td>0.626889</td>\n",
       "      <td>PEDROWNOTGRNT</td>\n",
       "      <td>DT_Unbalanced</td>\n",
       "    </tr>\n",
       "    <tr>\n",
       "      <th>1</th>\n",
       "      <td>0.329815</td>\n",
       "      <td>WEATHER</td>\n",
       "      <td>DT_Unbalanced</td>\n",
       "    </tr>\n",
       "    <tr>\n",
       "      <th>2</th>\n",
       "      <td>0.024272</td>\n",
       "      <td>UNDERINFL</td>\n",
       "      <td>DT_Unbalanced</td>\n",
       "    </tr>\n",
       "    <tr>\n",
       "      <th>3</th>\n",
       "      <td>0.019024</td>\n",
       "      <td>SPEEDING</td>\n",
       "      <td>DT_Unbalanced</td>\n",
       "    </tr>\n",
       "  </tbody>\n",
       "</table>\n",
       "</div>"
      ],
      "text/plain": [
       "      Score        Feature  Model_Dataset\n",
       "0  0.626889  PEDROWNOTGRNT  DT_Unbalanced\n",
       "1  0.329815        WEATHER  DT_Unbalanced\n",
       "2  0.024272      UNDERINFL  DT_Unbalanced\n",
       "3  0.019024       SPEEDING  DT_Unbalanced"
      ]
     },
     "execution_count": 80,
     "metadata": {},
     "output_type": "execute_result"
    }
   ],
   "source": [
    "# Df of X features importance \n",
    "importance_un_DT_df = pd.DataFrame(importance_un_DT, columns =['Score','Feature'])\n",
    "importance_un_DT_df['Model_Dataset'] = 'DT_Unbalanced'\n",
    "importance_un_DT_df"
   ]
  },
  {
   "cell_type": "markdown",
   "metadata": {},
   "source": [
    "# Model: Random Forest with normal (unbalanced) dataset"
   ]
  },
  {
   "cell_type": "code",
   "execution_count": 41,
   "metadata": {},
   "outputs": [],
   "source": [
    "# Split data: already completed in the Decision Tree Model"
   ]
  },
  {
   "cell_type": "code",
   "execution_count": 42,
   "metadata": {},
   "outputs": [],
   "source": [
    "# Create Model\n",
    "rf = RandomForestClassifier(n_estimators=200)"
   ]
  },
  {
   "cell_type": "code",
   "execution_count": 43,
   "metadata": {},
   "outputs": [],
   "source": [
    "# Fit / Train Model\n",
    "rf = rf.fit(X_trainset, y_trainset)"
   ]
  },
  {
   "cell_type": "code",
   "execution_count": 44,
   "metadata": {},
   "outputs": [
    {
     "data": {
      "text/plain": [
       "array([1, 1, 1, 1, 1, 1, 1, 1, 1, 1])"
      ]
     },
     "execution_count": 44,
     "metadata": {},
     "output_type": "execute_result"
    }
   ],
   "source": [
    "# Predict\n",
    "yhat_rf = rf.predict(X_testset)\n",
    "yhat_rf[0:10]"
   ]
  },
  {
   "cell_type": "code",
   "execution_count": 45,
   "metadata": {},
   "outputs": [
    {
     "name": "stdout",
     "output_type": "stream",
     "text": [
      "F1-Score: 0.6304641987130116\n",
      "Jaccard Index: 0.723485497072018\n"
     ]
    }
   ],
   "source": [
    "# Evaluate\n",
    "fscore_rf = metrics.f1_score(y_testset, yhat_rf, average='weighted')\n",
    "jaccard_rf = metrics.jaccard_similarity_score(y_testset, yhat_rf)\n",
    "print(\"F1-Score:\",fscore_rf)\n",
    "print(\"Jaccard Index:\",jaccard_rf)"
   ]
  },
  {
   "cell_type": "code",
   "execution_count": 48,
   "metadata": {},
   "outputs": [
    {
     "data": {
      "text/plain": [
       "[(0.6131561278306045, 'PEDROWNOTGRNT'),\n",
       " (0.33780817786348494, 'WEATHER'),\n",
       " (0.027630964858223472, 'UNDERINFL'),\n",
       " (0.02140472944768689, 'SPEEDING')]"
      ]
     },
     "execution_count": 48,
     "metadata": {},
     "output_type": "execute_result"
    }
   ],
   "source": [
    "# X features importance\n",
    "importance_un_RF = sorted(zip(rf.feature_importances_, feature_names), reverse=True)\n",
    "importance_un_RF"
   ]
  },
  {
   "cell_type": "code",
   "execution_count": 79,
   "metadata": {},
   "outputs": [
    {
     "data": {
      "text/html": [
       "<div>\n",
       "<style scoped>\n",
       "    .dataframe tbody tr th:only-of-type {\n",
       "        vertical-align: middle;\n",
       "    }\n",
       "\n",
       "    .dataframe tbody tr th {\n",
       "        vertical-align: top;\n",
       "    }\n",
       "\n",
       "    .dataframe thead th {\n",
       "        text-align: right;\n",
       "    }\n",
       "</style>\n",
       "<table border=\"1\" class=\"dataframe\">\n",
       "  <thead>\n",
       "    <tr style=\"text-align: right;\">\n",
       "      <th></th>\n",
       "      <th>Score</th>\n",
       "      <th>Feature</th>\n",
       "      <th>Model_Dataset</th>\n",
       "    </tr>\n",
       "  </thead>\n",
       "  <tbody>\n",
       "    <tr>\n",
       "      <th>0</th>\n",
       "      <td>0.613156</td>\n",
       "      <td>PEDROWNOTGRNT</td>\n",
       "      <td>RF_Unbalanced</td>\n",
       "    </tr>\n",
       "    <tr>\n",
       "      <th>1</th>\n",
       "      <td>0.337808</td>\n",
       "      <td>WEATHER</td>\n",
       "      <td>RF_Unbalanced</td>\n",
       "    </tr>\n",
       "    <tr>\n",
       "      <th>2</th>\n",
       "      <td>0.027631</td>\n",
       "      <td>UNDERINFL</td>\n",
       "      <td>RF_Unbalanced</td>\n",
       "    </tr>\n",
       "    <tr>\n",
       "      <th>3</th>\n",
       "      <td>0.021405</td>\n",
       "      <td>SPEEDING</td>\n",
       "      <td>RF_Unbalanced</td>\n",
       "    </tr>\n",
       "  </tbody>\n",
       "</table>\n",
       "</div>"
      ],
      "text/plain": [
       "      Score        Feature  Model_Dataset\n",
       "0  0.613156  PEDROWNOTGRNT  RF_Unbalanced\n",
       "1  0.337808        WEATHER  RF_Unbalanced\n",
       "2  0.027631      UNDERINFL  RF_Unbalanced\n",
       "3  0.021405       SPEEDING  RF_Unbalanced"
      ]
     },
     "execution_count": 79,
     "metadata": {},
     "output_type": "execute_result"
    }
   ],
   "source": [
    "# Df of X features importance \n",
    "importance_un_RF_df = pd.DataFrame(importance_un_RF, columns =['Score','Feature']) \n",
    "importance_un_RF_df['Model_Dataset'] = 'RF_Unbalanced'\n",
    "importance_un_RF_df"
   ]
  },
  {
   "cell_type": "markdown",
   "metadata": {},
   "source": [
    "# Model: Logistic Regression with normal (unbalanced) dataset"
   ]
  },
  {
   "cell_type": "code",
   "execution_count": 113,
   "metadata": {},
   "outputs": [],
   "source": [
    "# Split data: already completed in the Decision Tree Model"
   ]
  },
  {
   "cell_type": "code",
   "execution_count": 114,
   "metadata": {},
   "outputs": [
    {
     "data": {
      "text/plain": [
       "LogisticRegression(C=0.1, class_weight=None, dual=False, fit_intercept=True,\n",
       "          intercept_scaling=1, max_iter=100, multi_class='warn',\n",
       "          n_jobs=None, penalty='l2', random_state=None, solver='liblinear',\n",
       "          tol=0.0001, verbose=0, warm_start=False)"
      ]
     },
     "execution_count": 114,
     "metadata": {},
     "output_type": "execute_result"
    }
   ],
   "source": [
    "# Create Model \n",
    "LR = LogisticRegression(C=0.1, solver='liblinear')\n",
    "LR"
   ]
  },
  {
   "cell_type": "code",
   "execution_count": 115,
   "metadata": {},
   "outputs": [
    {
     "data": {
      "text/plain": [
       "LogisticRegression(C=0.1, class_weight=None, dual=False, fit_intercept=True,\n",
       "          intercept_scaling=1, max_iter=100, multi_class='warn',\n",
       "          n_jobs=None, penalty='l2', random_state=None, solver='liblinear',\n",
       "          tol=0.0001, verbose=0, warm_start=False)"
      ]
     },
     "execution_count": 115,
     "metadata": {},
     "output_type": "execute_result"
    }
   ],
   "source": [
    "# Train / Fit Model \n",
    "LR.fit(X_trainset,y_trainset)"
   ]
  },
  {
   "cell_type": "code",
   "execution_count": 116,
   "metadata": {},
   "outputs": [
    {
     "data": {
      "text/plain": [
       "array([1, 1, 1, 1, 1, 1, 1, 1, 1, 1])"
      ]
     },
     "execution_count": 116,
     "metadata": {},
     "output_type": "execute_result"
    }
   ],
   "source": [
    "# Make Predictions \n",
    "yhat_LR = LR.predict(X_testset)\n",
    "yhat_LR[0:10]"
   ]
  },
  {
   "cell_type": "code",
   "execution_count": 117,
   "metadata": {},
   "outputs": [
    {
     "name": "stdout",
     "output_type": "stream",
     "text": [
      "F1-Score: 0.6304044542067013\n",
      "Jaccard Index: 0.7234683743707407\n"
     ]
    }
   ],
   "source": [
    "# Evaluate\n",
    "fscore_LR = metrics.f1_score(y_testset, yhat_LR, average='weighted')\n",
    "jaccard_LR = metrics.jaccard_similarity_score(y_testset, yhat_LR)\n",
    "print(\"F1-Score:\",fscore_LR)\n",
    "print(\"Jaccard Index:\",jaccard_LR)"
   ]
  },
  {
   "cell_type": "markdown",
   "metadata": {},
   "source": [
    "# Model: Knn with normal (unbalanced) dataset"
   ]
  },
  {
   "cell_type": "code",
   "execution_count": 118,
   "metadata": {},
   "outputs": [],
   "source": [
    "# Split data: already completed in the Decision Tree Model"
   ]
  },
  {
   "cell_type": "code",
   "execution_count": 119,
   "metadata": {},
   "outputs": [
    {
     "data": {
      "text/plain": [
       "KNeighborsClassifier(algorithm='auto', leaf_size=30, metric='minkowski',\n",
       "           metric_params=None, n_jobs=None, n_neighbors=9, p=2,\n",
       "           weights='uniform')"
      ]
     },
     "execution_count": 119,
     "metadata": {},
     "output_type": "execute_result"
    }
   ],
   "source": [
    "# Create Model \n",
    "k=9\n",
    "neigh = KNeighborsClassifier(n_neighbors = k)\n",
    "neigh"
   ]
  },
  {
   "cell_type": "code",
   "execution_count": 120,
   "metadata": {},
   "outputs": [
    {
     "data": {
      "text/plain": [
       "KNeighborsClassifier(algorithm='auto', leaf_size=30, metric='minkowski',\n",
       "           metric_params=None, n_jobs=None, n_neighbors=9, p=2,\n",
       "           weights='uniform')"
      ]
     },
     "execution_count": 120,
     "metadata": {},
     "output_type": "execute_result"
    }
   ],
   "source": [
    "# Train / Fit Model \n",
    "neigh.fit(X_trainset,y_trainset)\n",
    "neigh"
   ]
  },
  {
   "cell_type": "code",
   "execution_count": 121,
   "metadata": {},
   "outputs": [
    {
     "data": {
      "text/plain": [
       "array([1, 1, 1, 1, 1, 1, 1, 1, 1, 1])"
      ]
     },
     "execution_count": 121,
     "metadata": {},
     "output_type": "execute_result"
    }
   ],
   "source": [
    "# Make Predictions \n",
    "yhat_Knn = neigh.predict(X_testset)\n",
    "yhat_Knn[0:10]"
   ]
  },
  {
   "cell_type": "code",
   "execution_count": 122,
   "metadata": {},
   "outputs": [
    {
     "name": "stdout",
     "output_type": "stream",
     "text": [
      "F1-Score: 0.6396053094099318\n",
      "Jaccard Index: 0.7150953734461148\n"
     ]
    }
   ],
   "source": [
    "fscore_Knn = metrics.f1_score(y_testset, yhat_Knn, average='weighted')\n",
    "jaccard_Knn = metrics.jaccard_similarity_score(y_testset, yhat_Knn)\n",
    "print(\"F1-Score:\",fscore_Knn)\n",
    "print(\"Jaccard Index:\",jaccard_Knn)"
   ]
  },
  {
   "cell_type": "markdown",
   "metadata": {},
   "source": [
    "# Model: SVM with normal (unbalanced) dataset"
   ]
  },
  {
   "cell_type": "code",
   "execution_count": 123,
   "metadata": {},
   "outputs": [],
   "source": [
    "# Split data: already completed in the Decision Tree Model"
   ]
  },
  {
   "cell_type": "code",
   "execution_count": 124,
   "metadata": {},
   "outputs": [
    {
     "data": {
      "text/plain": [
       "SVC(C=1.0, cache_size=200, class_weight=None, coef0=0.0,\n",
       "  decision_function_shape='ovr', degree=3, gamma='auto_deprecated',\n",
       "  kernel='linear', max_iter=-1, probability=False, random_state=None,\n",
       "  shrinking=True, tol=0.001, verbose=False)"
      ]
     },
     "execution_count": 124,
     "metadata": {},
     "output_type": "execute_result"
    }
   ],
   "source": [
    "# Create Model\n",
    "# clf = svm.SVC(C=0.1, kernel='rbf')\n",
    "clf = svm.SVC(kernel='linear')\n",
    "clf"
   ]
  },
  {
   "cell_type": "code",
   "execution_count": 125,
   "metadata": {},
   "outputs": [
    {
     "data": {
      "text/plain": [
       "SVC(C=1.0, cache_size=200, class_weight=None, coef0=0.0,\n",
       "  decision_function_shape='ovr', degree=3, gamma='auto_deprecated',\n",
       "  kernel='linear', max_iter=-1, probability=False, random_state=None,\n",
       "  shrinking=True, tol=0.001, verbose=False)"
      ]
     },
     "execution_count": 125,
     "metadata": {},
     "output_type": "execute_result"
    }
   ],
   "source": [
    "# Train / Fit Model \n",
    "clf.fit(X_trainset, y_trainset) "
   ]
  },
  {
   "cell_type": "code",
   "execution_count": 126,
   "metadata": {},
   "outputs": [
    {
     "data": {
      "text/plain": [
       "array([1, 1, 1, 1, 1, 1, 1, 1, 1, 1])"
      ]
     },
     "execution_count": 126,
     "metadata": {},
     "output_type": "execute_result"
    }
   ],
   "source": [
    "# Make Predictions \n",
    "yhat_svm = clf.predict(X_testset)\n",
    "yhat_svm [0:10]"
   ]
  },
  {
   "cell_type": "code",
   "execution_count": 127,
   "metadata": {},
   "outputs": [
    {
     "name": "stdout",
     "output_type": "stream",
     "text": [
      "F1-Score: 0.6280991299176927\n",
      "Jaccard Index: 0.723725214889901\n"
     ]
    }
   ],
   "source": [
    "fscore_svm = metrics.f1_score(y_testset, yhat_svm, average='weighted')\n",
    "jaccard_svm = metrics.jaccard_similarity_score(y_testset, yhat_svm)\n",
    "print(\"F1-Score:\",fscore_svm )\n",
    "print(\"Jaccard Index:\", jaccard_svm)"
   ]
  },
  {
   "cell_type": "markdown",
   "metadata": {},
   "source": [
    "# Model: Decision Tree with balanced dataset"
   ]
  },
  {
   "cell_type": "raw",
   "metadata": {},
   "source": [
    "Accuracy scores with balanced data at lower than with the normal / unbalanced dataset"
   ]
  },
  {
   "cell_type": "code",
   "execution_count": 51,
   "metadata": {},
   "outputs": [],
   "source": [
    "#Split Data: Test & Train \n",
    "# Use in all models\n",
    "X_train, X_test, y_train, y_test = train_test_split(X_balanced, y_balanced, test_size=0.3, random_state=42)"
   ]
  },
  {
   "cell_type": "code",
   "execution_count": 52,
   "metadata": {},
   "outputs": [
    {
     "data": {
      "text/plain": [
       "DecisionTreeClassifier(class_weight=None, criterion='gini', max_depth=None,\n",
       "            max_features=None, max_leaf_nodes=None,\n",
       "            min_impurity_decrease=0.0, min_impurity_split=None,\n",
       "            min_samples_leaf=1, min_samples_split=2,\n",
       "            min_weight_fraction_leaf=0.0, presort=False, random_state=None,\n",
       "            splitter='best')"
      ]
     },
     "execution_count": 52,
     "metadata": {},
     "output_type": "execute_result"
    }
   ],
   "source": [
    "# Create Model\n",
    "tree_b = DecisionTreeClassifier(criterion=\"gini\")\n",
    "tree_b "
   ]
  },
  {
   "cell_type": "code",
   "execution_count": 53,
   "metadata": {},
   "outputs": [
    {
     "data": {
      "text/plain": [
       "DecisionTreeClassifier(class_weight=None, criterion='gini', max_depth=None,\n",
       "            max_features=None, max_leaf_nodes=None,\n",
       "            min_impurity_decrease=0.0, min_impurity_split=None,\n",
       "            min_samples_leaf=1, min_samples_split=2,\n",
       "            min_weight_fraction_leaf=0.0, presort=False, random_state=None,\n",
       "            splitter='best')"
      ]
     },
     "execution_count": 53,
     "metadata": {},
     "output_type": "execute_result"
    }
   ],
   "source": [
    "# Fit / Train Model\n",
    "tree_b.fit(X_train,y_train)"
   ]
  },
  {
   "cell_type": "code",
   "execution_count": 54,
   "metadata": {},
   "outputs": [
    {
     "data": {
      "text/plain": [
       "array([1, 1, 1, 1, 1, 1, 1, 1, 1, 1])"
      ]
     },
     "execution_count": 54,
     "metadata": {},
     "output_type": "execute_result"
    }
   ],
   "source": [
    "# Predict\n",
    "yhat_tree_b = tree.predict(X_test)\n",
    "yhat_tree_b[0:10]"
   ]
  },
  {
   "cell_type": "code",
   "execution_count": 55,
   "metadata": {},
   "outputs": [
    {
     "name": "stdout",
     "output_type": "stream",
     "text": [
      "F1-Score: 0.41748673636185774\n",
      "Jaccard Index: 0.5404290665368201\n"
     ]
    }
   ],
   "source": [
    "# Evaluate\n",
    "fscore_tree_b = metrics.f1_score(y_test, yhat_tree_b, average='weighted')\n",
    "jaccard_tree_b = metrics.jaccard_similarity_score(y_test, yhat_tree_b)\n",
    "print(\"F1-Score:\", fscore_tree_b)\n",
    "print(\"Jaccard Index:\", jaccard_tree_b)"
   ]
  },
  {
   "cell_type": "code",
   "execution_count": 56,
   "metadata": {},
   "outputs": [
    {
     "data": {
      "text/plain": [
       "[(0.5184840006688883, 'WEATHER'),\n",
       " (0.4467228205388238, 'PEDROWNOTGRNT'),\n",
       " (0.01972996249630891, 'UNDERINFL'),\n",
       " (0.015063216295979084, 'SPEEDING')]"
      ]
     },
     "execution_count": 56,
     "metadata": {},
     "output_type": "execute_result"
    }
   ],
   "source": [
    "# X features importance\n",
    "feature_names_b = X_balanced.columns\n",
    "importance_b_DT = sorted(zip(tree_b.feature_importances_, feature_names_b), reverse=True)\n",
    "importance_b_DT"
   ]
  },
  {
   "cell_type": "code",
   "execution_count": 81,
   "metadata": {},
   "outputs": [
    {
     "data": {
      "text/html": [
       "<div>\n",
       "<style scoped>\n",
       "    .dataframe tbody tr th:only-of-type {\n",
       "        vertical-align: middle;\n",
       "    }\n",
       "\n",
       "    .dataframe tbody tr th {\n",
       "        vertical-align: top;\n",
       "    }\n",
       "\n",
       "    .dataframe thead th {\n",
       "        text-align: right;\n",
       "    }\n",
       "</style>\n",
       "<table border=\"1\" class=\"dataframe\">\n",
       "  <thead>\n",
       "    <tr style=\"text-align: right;\">\n",
       "      <th></th>\n",
       "      <th>Score</th>\n",
       "      <th>Feature</th>\n",
       "      <th>Model_Dataset</th>\n",
       "    </tr>\n",
       "  </thead>\n",
       "  <tbody>\n",
       "    <tr>\n",
       "      <th>0</th>\n",
       "      <td>0.518484</td>\n",
       "      <td>WEATHER</td>\n",
       "      <td>DT_Balanced</td>\n",
       "    </tr>\n",
       "    <tr>\n",
       "      <th>1</th>\n",
       "      <td>0.446723</td>\n",
       "      <td>PEDROWNOTGRNT</td>\n",
       "      <td>DT_Balanced</td>\n",
       "    </tr>\n",
       "    <tr>\n",
       "      <th>2</th>\n",
       "      <td>0.019730</td>\n",
       "      <td>UNDERINFL</td>\n",
       "      <td>DT_Balanced</td>\n",
       "    </tr>\n",
       "    <tr>\n",
       "      <th>3</th>\n",
       "      <td>0.015063</td>\n",
       "      <td>SPEEDING</td>\n",
       "      <td>DT_Balanced</td>\n",
       "    </tr>\n",
       "  </tbody>\n",
       "</table>\n",
       "</div>"
      ],
      "text/plain": [
       "      Score        Feature Model_Dataset\n",
       "0  0.518484        WEATHER   DT_Balanced\n",
       "1  0.446723  PEDROWNOTGRNT   DT_Balanced\n",
       "2  0.019730      UNDERINFL   DT_Balanced\n",
       "3  0.015063       SPEEDING   DT_Balanced"
      ]
     },
     "execution_count": 81,
     "metadata": {},
     "output_type": "execute_result"
    }
   ],
   "source": [
    "# Df of X features importance \n",
    "importance_b_DT_df= pd.DataFrame(importance_b_DT, columns =['Score','Feature'])\n",
    "importance_b_DT_df['Model_Dataset'] = 'DT_Balanced'\n",
    "importance_b_DT_df"
   ]
  },
  {
   "cell_type": "markdown",
   "metadata": {},
   "source": [
    "# Model: Random Forest with balanced dataset"
   ]
  },
  {
   "cell_type": "code",
   "execution_count": 58,
   "metadata": {},
   "outputs": [],
   "source": [
    "#Split Data: Test & Train\n",
    "# Already completed in the Decision Tree model "
   ]
  },
  {
   "cell_type": "code",
   "execution_count": 59,
   "metadata": {},
   "outputs": [],
   "source": [
    "# Create Model\n",
    "rf_b = RandomForestClassifier(n_estimators=200)"
   ]
  },
  {
   "cell_type": "code",
   "execution_count": 60,
   "metadata": {},
   "outputs": [
    {
     "data": {
      "text/plain": [
       "RandomForestClassifier(bootstrap=True, class_weight=None, criterion='gini',\n",
       "            max_depth=None, max_features='auto', max_leaf_nodes=None,\n",
       "            min_impurity_decrease=0.0, min_impurity_split=None,\n",
       "            min_samples_leaf=1, min_samples_split=2,\n",
       "            min_weight_fraction_leaf=0.0, n_estimators=200, n_jobs=None,\n",
       "            oob_score=False, random_state=None, verbose=0,\n",
       "            warm_start=False)"
      ]
     },
     "execution_count": 60,
     "metadata": {},
     "output_type": "execute_result"
    }
   ],
   "source": [
    "# Fit / Train Model\n",
    "rf_b.fit(X_train, y_train)"
   ]
  },
  {
   "cell_type": "code",
   "execution_count": 61,
   "metadata": {},
   "outputs": [
    {
     "data": {
      "text/plain": [
       "array([1, 1, 1, 1, 1, 1, 1, 1, 1, 1])"
      ]
     },
     "execution_count": 61,
     "metadata": {},
     "output_type": "execute_result"
    }
   ],
   "source": [
    "# Predict\n",
    "yhat_rf_b = rf.predict(X_test)\n",
    "yhat_rf_b[0:10]"
   ]
  },
  {
   "cell_type": "code",
   "execution_count": 62,
   "metadata": {},
   "outputs": [
    {
     "name": "stdout",
     "output_type": "stream",
     "text": [
      "F1-Score: 0.41748673636185774\n",
      "Jaccard Index: 0.5404290665368201\n"
     ]
    }
   ],
   "source": [
    "# Evaluate\n",
    "fscore_rf_b = metrics.f1_score(y_test, yhat_rf_b, average='weighted')\n",
    "jaccard_rf_b = metrics.jaccard_similarity_score(y_test, yhat_rf_b)\n",
    "print(\"F1-Score:\", fscore_rf_b)\n",
    "print(\"Jaccard Index:\", jaccard_rf_b)"
   ]
  },
  {
   "cell_type": "code",
   "execution_count": 64,
   "metadata": {},
   "outputs": [
    {
     "data": {
      "text/plain": [
       "[(0.49800049834463644, 'WEATHER'),\n",
       " (0.460887189713228, 'PEDROWNOTGRNT'),\n",
       " (0.02265665047433484, 'UNDERINFL'),\n",
       " (0.018455661467800887, 'SPEEDING')]"
      ]
     },
     "execution_count": 64,
     "metadata": {},
     "output_type": "execute_result"
    }
   ],
   "source": [
    "# X features importance\n",
    "feature_names_b = X_balanced.columns\n",
    "importance_b_RF= sorted(zip(rf_b.feature_importances_, feature_names_b), reverse=True)\n",
    "importance_b_RF "
   ]
  },
  {
   "cell_type": "code",
   "execution_count": 82,
   "metadata": {},
   "outputs": [
    {
     "data": {
      "text/html": [
       "<div>\n",
       "<style scoped>\n",
       "    .dataframe tbody tr th:only-of-type {\n",
       "        vertical-align: middle;\n",
       "    }\n",
       "\n",
       "    .dataframe tbody tr th {\n",
       "        vertical-align: top;\n",
       "    }\n",
       "\n",
       "    .dataframe thead th {\n",
       "        text-align: right;\n",
       "    }\n",
       "</style>\n",
       "<table border=\"1\" class=\"dataframe\">\n",
       "  <thead>\n",
       "    <tr style=\"text-align: right;\">\n",
       "      <th></th>\n",
       "      <th>Score</th>\n",
       "      <th>Feature</th>\n",
       "      <th>Model_Dataset</th>\n",
       "    </tr>\n",
       "  </thead>\n",
       "  <tbody>\n",
       "    <tr>\n",
       "      <th>0</th>\n",
       "      <td>0.498000</td>\n",
       "      <td>WEATHER</td>\n",
       "      <td>RF_Balanced</td>\n",
       "    </tr>\n",
       "    <tr>\n",
       "      <th>1</th>\n",
       "      <td>0.460887</td>\n",
       "      <td>PEDROWNOTGRNT</td>\n",
       "      <td>RF_Balanced</td>\n",
       "    </tr>\n",
       "    <tr>\n",
       "      <th>2</th>\n",
       "      <td>0.022657</td>\n",
       "      <td>UNDERINFL</td>\n",
       "      <td>RF_Balanced</td>\n",
       "    </tr>\n",
       "    <tr>\n",
       "      <th>3</th>\n",
       "      <td>0.018456</td>\n",
       "      <td>SPEEDING</td>\n",
       "      <td>RF_Balanced</td>\n",
       "    </tr>\n",
       "  </tbody>\n",
       "</table>\n",
       "</div>"
      ],
      "text/plain": [
       "      Score        Feature Model_Dataset\n",
       "0  0.498000        WEATHER   RF_Balanced\n",
       "1  0.460887  PEDROWNOTGRNT   RF_Balanced\n",
       "2  0.022657      UNDERINFL   RF_Balanced\n",
       "3  0.018456       SPEEDING   RF_Balanced"
      ]
     },
     "execution_count": 82,
     "metadata": {},
     "output_type": "execute_result"
    }
   ],
   "source": [
    "# Df of X features importance \n",
    "importance_b_RF_df= pd.DataFrame(importance_b_RF, columns =['Score','Feature'])\n",
    "importance_b_RF_df['Model_Dataset'] = 'RF_Balanced'\n",
    "importance_b_RF_df"
   ]
  },
  {
   "cell_type": "markdown",
   "metadata": {},
   "source": [
    "# Model: Logistic Regression with balanced dataset"
   ]
  },
  {
   "cell_type": "code",
   "execution_count": 140,
   "metadata": {},
   "outputs": [],
   "source": [
    "#Split Data: Test & Train\n",
    "# Already completed in the Decision Tree model "
   ]
  },
  {
   "cell_type": "code",
   "execution_count": 141,
   "metadata": {},
   "outputs": [
    {
     "data": {
      "text/plain": [
       "LogisticRegression(C=0.1, class_weight=None, dual=False, fit_intercept=True,\n",
       "          intercept_scaling=1, max_iter=100, multi_class='warn',\n",
       "          n_jobs=None, penalty='l2', random_state=None, solver='liblinear',\n",
       "          tol=0.0001, verbose=0, warm_start=False)"
      ]
     },
     "execution_count": 141,
     "metadata": {},
     "output_type": "execute_result"
    }
   ],
   "source": [
    "# Create Model \n",
    "LR_b = LogisticRegression(C=0.1, solver='liblinear')\n",
    "LR_b"
   ]
  },
  {
   "cell_type": "code",
   "execution_count": 142,
   "metadata": {},
   "outputs": [
    {
     "data": {
      "text/plain": [
       "LogisticRegression(C=0.1, class_weight=None, dual=False, fit_intercept=True,\n",
       "          intercept_scaling=1, max_iter=100, multi_class='warn',\n",
       "          n_jobs=None, penalty='l2', random_state=None, solver='liblinear',\n",
       "          tol=0.0001, verbose=0, warm_start=False)"
      ]
     },
     "execution_count": 142,
     "metadata": {},
     "output_type": "execute_result"
    }
   ],
   "source": [
    "# Train / Fit Model \n",
    "LR_b.fit(X_train,y_train)"
   ]
  },
  {
   "cell_type": "code",
   "execution_count": 143,
   "metadata": {},
   "outputs": [
    {
     "data": {
      "text/plain": [
       "array([1, 1, 2, 1, 2, 2, 1, 2, 2, 2])"
      ]
     },
     "execution_count": 143,
     "metadata": {},
     "output_type": "execute_result"
    }
   ],
   "source": [
    "# Make Predictions\n",
    "yhat_LR_b = LR_b.predict(X_test)\n",
    "yhat_LR_b[0:10]"
   ]
  },
  {
   "cell_type": "code",
   "execution_count": 144,
   "metadata": {},
   "outputs": [
    {
     "name": "stdout",
     "output_type": "stream",
     "text": [
      "F1-Score: 0.5416371164053428\n",
      "Jaccard Index: 0.5494801363388996\n"
     ]
    }
   ],
   "source": [
    "# Evaluate\n",
    "fscore_LR_b = metrics.f1_score(y_test, yhat_LR_b, average='weighted')\n",
    "jaccard_LR_b = metrics.jaccard_similarity_score(y_test, yhat_LR_b)\n",
    "print(\"F1-Score:\", fscore_LR_b)\n",
    "print(\"Jaccard Index:\", jaccard_LR_b)"
   ]
  },
  {
   "cell_type": "markdown",
   "metadata": {},
   "source": [
    "# Model: Knn with balanced dataset"
   ]
  },
  {
   "cell_type": "code",
   "execution_count": 145,
   "metadata": {},
   "outputs": [],
   "source": [
    "#Split Data: Test & Train\n",
    "# Already completed in the Decision Tree model "
   ]
  },
  {
   "cell_type": "code",
   "execution_count": 146,
   "metadata": {},
   "outputs": [
    {
     "data": {
      "text/plain": [
       "KNeighborsClassifier(algorithm='auto', leaf_size=30, metric='minkowski',\n",
       "           metric_params=None, n_jobs=None, n_neighbors=9, p=2,\n",
       "           weights='uniform')"
      ]
     },
     "execution_count": 146,
     "metadata": {},
     "output_type": "execute_result"
    }
   ],
   "source": [
    "# Create Model \n",
    "k=9\n",
    "neigh_b = KNeighborsClassifier(n_neighbors = k)\n",
    "neigh_b"
   ]
  },
  {
   "cell_type": "code",
   "execution_count": 147,
   "metadata": {},
   "outputs": [
    {
     "data": {
      "text/plain": [
       "KNeighborsClassifier(algorithm='auto', leaf_size=30, metric='minkowski',\n",
       "           metric_params=None, n_jobs=None, n_neighbors=9, p=2,\n",
       "           weights='uniform')"
      ]
     },
     "execution_count": 147,
     "metadata": {},
     "output_type": "execute_result"
    }
   ],
   "source": [
    "# Train / Fit Model \n",
    "neigh_b.fit(X_train,y_train)\n",
    "neigh_b"
   ]
  },
  {
   "cell_type": "code",
   "execution_count": 148,
   "metadata": {},
   "outputs": [
    {
     "data": {
      "text/plain": [
       "array([1, 1, 1, 1, 1, 1, 1, 1, 1, 1])"
      ]
     },
     "execution_count": 148,
     "metadata": {},
     "output_type": "execute_result"
    }
   ],
   "source": [
    "# Make Predictions \n",
    "yhat_Knn_b = neigh.predict(X_test)\n",
    "yhat_Knn_b[0:10]"
   ]
  },
  {
   "cell_type": "code",
   "execution_count": 149,
   "metadata": {},
   "outputs": [
    {
     "name": "stdout",
     "output_type": "stream",
     "text": [
      "F1-Score: 0.4463902679941887\n",
      "Jaccard Index: 0.5461862343539655\n"
     ]
    }
   ],
   "source": [
    "# Evaluate\n",
    "fscore_Knn_b = metrics.f1_score(y_test, yhat_Knn_b, average='weighted')\n",
    "jaccard_Knn_b = metrics.jaccard_similarity_score(y_test, yhat_Knn_b)\n",
    "print(\"F1-Score:\", fscore_Knn_b)\n",
    "print(\"Jaccard Index:\", jaccard_Knn_b)"
   ]
  },
  {
   "cell_type": "markdown",
   "metadata": {},
   "source": [
    "# Model: SVM with balanced dataset"
   ]
  },
  {
   "cell_type": "code",
   "execution_count": 150,
   "metadata": {},
   "outputs": [],
   "source": [
    "#Split Data: Test & Train\n",
    "# Already completed in the Decision Tree model "
   ]
  },
  {
   "cell_type": "code",
   "execution_count": 151,
   "metadata": {},
   "outputs": [
    {
     "data": {
      "text/plain": [
       "SVC(C=1.0, cache_size=200, class_weight=None, coef0=0.0,\n",
       "  decision_function_shape='ovr', degree=3, gamma='auto_deprecated',\n",
       "  kernel='linear', max_iter=-1, probability=False, random_state=None,\n",
       "  shrinking=True, tol=0.001, verbose=False)"
      ]
     },
     "execution_count": 151,
     "metadata": {},
     "output_type": "execute_result"
    }
   ],
   "source": [
    "# Create Model\n",
    "clf_b = svm.SVC(kernel='linear')\n",
    "clf_b"
   ]
  },
  {
   "cell_type": "code",
   "execution_count": 152,
   "metadata": {},
   "outputs": [
    {
     "data": {
      "text/plain": [
       "SVC(C=1.0, cache_size=200, class_weight=None, coef0=0.0,\n",
       "  decision_function_shape='ovr', degree=3, gamma='auto_deprecated',\n",
       "  kernel='linear', max_iter=-1, probability=False, random_state=None,\n",
       "  shrinking=True, tol=0.001, verbose=False)"
      ]
     },
     "execution_count": 152,
     "metadata": {},
     "output_type": "execute_result"
    }
   ],
   "source": [
    "# Train / Fit Model \n",
    "clf_b.fit(X_train, y_train) "
   ]
  },
  {
   "cell_type": "code",
   "execution_count": 153,
   "metadata": {},
   "outputs": [
    {
     "data": {
      "text/plain": [
       "array([1, 1, 2, 2, 2, 2, 1, 2, 2, 2])"
      ]
     },
     "execution_count": 153,
     "metadata": {},
     "output_type": "execute_result"
    }
   ],
   "source": [
    "# Make Predictions \n",
    "yhat_svm_b = clf_b.predict(X_test)\n",
    "yhat_svm_b [0:10]"
   ]
  },
  {
   "cell_type": "code",
   "execution_count": 154,
   "metadata": {},
   "outputs": [
    {
     "name": "stdout",
     "output_type": "stream",
     "text": [
      "F1-Score: 0.5102462857203012\n",
      "Jaccard Index: 0.5393406467504941\n"
     ]
    }
   ],
   "source": [
    "# Evaluate\n",
    "fscore_svm_b = metrics.f1_score(y_test, yhat_svm_b, average='weighted')\n",
    "jaccard_svm_b = metrics.jaccard_similarity_score(y_test, yhat_svm_b)\n",
    "print(\"F1-Score:\", fscore_svm_b)\n",
    "print(\"Jaccard Index:\", jaccard_svm_b)"
   ]
  },
  {
   "cell_type": "markdown",
   "metadata": {},
   "source": [
    "# Results / Summary"
   ]
  },
  {
   "cell_type": "markdown",
   "metadata": {},
   "source": [
    "### Accuracy Scores "
   ]
  },
  {
   "cell_type": "code",
   "execution_count": 170,
   "metadata": {},
   "outputs": [
    {
     "data": {
      "text/html": [
       "<div>\n",
       "<style scoped>\n",
       "    .dataframe tbody tr th:only-of-type {\n",
       "        vertical-align: middle;\n",
       "    }\n",
       "\n",
       "    .dataframe tbody tr th {\n",
       "        vertical-align: top;\n",
       "    }\n",
       "\n",
       "    .dataframe thead th {\n",
       "        text-align: right;\n",
       "    }\n",
       "</style>\n",
       "<table border=\"1\" class=\"dataframe\">\n",
       "  <thead>\n",
       "    <tr style=\"text-align: right;\">\n",
       "      <th></th>\n",
       "      <th>Fscore_Unbalanced</th>\n",
       "      <th>Jaccard_Unbalanced</th>\n",
       "      <th>Fscore_Balanced</th>\n",
       "      <th>Jaccard_Balanced</th>\n",
       "    </tr>\n",
       "  </thead>\n",
       "  <tbody>\n",
       "    <tr>\n",
       "      <th>Decision_Tree</th>\n",
       "      <td>0.630429</td>\n",
       "      <td>0.723468</td>\n",
       "      <td>0.417487</td>\n",
       "      <td>0.540429</td>\n",
       "    </tr>\n",
       "    <tr>\n",
       "      <th>Random_Forest</th>\n",
       "      <td>0.630464</td>\n",
       "      <td>0.723485</td>\n",
       "      <td>0.417487</td>\n",
       "      <td>0.540429</td>\n",
       "    </tr>\n",
       "    <tr>\n",
       "      <th>Logistic_Regression</th>\n",
       "      <td>0.630404</td>\n",
       "      <td>0.723468</td>\n",
       "      <td>0.541637</td>\n",
       "      <td>0.549480</td>\n",
       "    </tr>\n",
       "    <tr>\n",
       "      <th>Knn</th>\n",
       "      <td>0.639605</td>\n",
       "      <td>0.715095</td>\n",
       "      <td>0.446390</td>\n",
       "      <td>0.546186</td>\n",
       "    </tr>\n",
       "    <tr>\n",
       "      <th>SVM</th>\n",
       "      <td>0.628099</td>\n",
       "      <td>0.723725</td>\n",
       "      <td>0.510246</td>\n",
       "      <td>0.539341</td>\n",
       "    </tr>\n",
       "  </tbody>\n",
       "</table>\n",
       "</div>"
      ],
      "text/plain": [
       "                     Fscore_Unbalanced  Jaccard_Unbalanced  Fscore_Balanced  \\\n",
       "Decision_Tree                 0.630429            0.723468         0.417487   \n",
       "Random_Forest                 0.630464            0.723485         0.417487   \n",
       "Logistic_Regression           0.630404            0.723468         0.541637   \n",
       "Knn                           0.639605            0.715095         0.446390   \n",
       "SVM                           0.628099            0.723725         0.510246   \n",
       "\n",
       "                     Jaccard_Balanced  \n",
       "Decision_Tree                0.540429  \n",
       "Random_Forest                0.540429  \n",
       "Logistic_Regression          0.549480  \n",
       "Knn                          0.546186  \n",
       "SVM                          0.539341  "
      ]
     },
     "execution_count": 170,
     "metadata": {},
     "output_type": "execute_result"
    }
   ],
   "source": [
    "# Dictionary and DF hosting accuracy scores \n",
    "# Both Balanced and Unbalanced Datasets input \n",
    "\n",
    "# Dictionary\n",
    "scores_dict = {'Decision_Tree':[fscore_tree, jaccard_tree, fscore_tree_b, jaccard_tree_b], \"Random_Forest\":[fscore_rf, jaccard_rf, fscore_rf_b, jaccard_rf_b], \"Logistic_Regression\": [fscore_LR, jaccard_LR, fscore_LR_b, jaccard_LR_b], \"Knn\":[fscore_Knn, jaccard_Knn, fscore_Knn_b, jaccard_Knn_b], \"SVM\":[fscore_svm, jaccard_svm, fscore_svm_b, jaccard_svm_b]}\n",
    "\n",
    "# DF\n",
    "scores_df = pd.DataFrame.from_dict(scores_dict, orient='index',columns=['Fscore_Unbalanced','Jaccard_Unbalanced', 'Fscore_Balanced', 'Jaccard_Balanced'])\n",
    "scores_df"
   ]
  },
  {
   "cell_type": "code",
   "execution_count": 192,
   "metadata": {},
   "outputs": [
    {
     "data": {
      "image/png": "[encoded data removed]",
      "text/plain": [
       "<Figure size 1080x360 with 1 Axes>"
      ]
     },
     "metadata": {
      "needs_background": "light"
     },
     "output_type": "display_data"
    }
   ],
   "source": [
    "# Accuracy Scores Visualization\n",
    "scores_df.plot(kind='bar', figsize=(15, 5))\n",
    "plt.xlabel('Model') \n",
    "plt.ylabel('Score') # add y-label to the plot\n",
    "plt.title('Model Accuracy Scores: Balanced and Unbalanced Datasets') \n",
    "plt.legend(bbox_to_anchor=(0, 1), loc='lower left', ncol=1)\n",
    "plt.xticks(rotation=360)\n",
    "plt.show()"
   ]
  },
  {
   "cell_type": "markdown",
   "metadata": {},
   "source": [
    "### Features Importance Scores "
   ]
  },
  {
   "cell_type": "raw",
   "metadata": {},
   "source": [
    "This type of scoring is applied to features of Decision Tree and Random Forest Models.\n",
    "It assesses the level of impurity, the higher the score the lower the impurity\n",
    "Goal here is to compare the average importance scores across the features "
   ]
  },
  {
   "cell_type": "code",
   "execution_count": 101,
   "metadata": {},
   "outputs": [
    {
     "data": {
      "text/html": [
       "<div>\n",
       "<style scoped>\n",
       "    .dataframe tbody tr th:only-of-type {\n",
       "        vertical-align: middle;\n",
       "    }\n",
       "\n",
       "    .dataframe tbody tr th {\n",
       "        vertical-align: top;\n",
       "    }\n",
       "\n",
       "    .dataframe thead th {\n",
       "        text-align: right;\n",
       "    }\n",
       "</style>\n",
       "<table border=\"1\" class=\"dataframe\">\n",
       "  <thead>\n",
       "    <tr style=\"text-align: right;\">\n",
       "      <th></th>\n",
       "      <th>Score</th>\n",
       "      <th>Feature</th>\n",
       "      <th>Model_Dataset</th>\n",
       "    </tr>\n",
       "  </thead>\n",
       "  <tbody>\n",
       "    <tr>\n",
       "      <th>0</th>\n",
       "      <td>0.626889</td>\n",
       "      <td>PEDROWNOTGRNT</td>\n",
       "      <td>DT_Unbalanced</td>\n",
       "    </tr>\n",
       "    <tr>\n",
       "      <th>1</th>\n",
       "      <td>0.329815</td>\n",
       "      <td>WEATHER</td>\n",
       "      <td>DT_Unbalanced</td>\n",
       "    </tr>\n",
       "    <tr>\n",
       "      <th>2</th>\n",
       "      <td>0.024272</td>\n",
       "      <td>UNDERINFL</td>\n",
       "      <td>DT_Unbalanced</td>\n",
       "    </tr>\n",
       "    <tr>\n",
       "      <th>3</th>\n",
       "      <td>0.019024</td>\n",
       "      <td>SPEEDING</td>\n",
       "      <td>DT_Unbalanced</td>\n",
       "    </tr>\n",
       "    <tr>\n",
       "      <th>0</th>\n",
       "      <td>0.613156</td>\n",
       "      <td>PEDROWNOTGRNT</td>\n",
       "      <td>RF_Unbalanced</td>\n",
       "    </tr>\n",
       "    <tr>\n",
       "      <th>1</th>\n",
       "      <td>0.337808</td>\n",
       "      <td>WEATHER</td>\n",
       "      <td>RF_Unbalanced</td>\n",
       "    </tr>\n",
       "    <tr>\n",
       "      <th>2</th>\n",
       "      <td>0.027631</td>\n",
       "      <td>UNDERINFL</td>\n",
       "      <td>RF_Unbalanced</td>\n",
       "    </tr>\n",
       "    <tr>\n",
       "      <th>3</th>\n",
       "      <td>0.021405</td>\n",
       "      <td>SPEEDING</td>\n",
       "      <td>RF_Unbalanced</td>\n",
       "    </tr>\n",
       "    <tr>\n",
       "      <th>0</th>\n",
       "      <td>0.518484</td>\n",
       "      <td>WEATHER</td>\n",
       "      <td>DT_Balanced</td>\n",
       "    </tr>\n",
       "    <tr>\n",
       "      <th>1</th>\n",
       "      <td>0.446723</td>\n",
       "      <td>PEDROWNOTGRNT</td>\n",
       "      <td>DT_Balanced</td>\n",
       "    </tr>\n",
       "    <tr>\n",
       "      <th>2</th>\n",
       "      <td>0.019730</td>\n",
       "      <td>UNDERINFL</td>\n",
       "      <td>DT_Balanced</td>\n",
       "    </tr>\n",
       "    <tr>\n",
       "      <th>3</th>\n",
       "      <td>0.015063</td>\n",
       "      <td>SPEEDING</td>\n",
       "      <td>DT_Balanced</td>\n",
       "    </tr>\n",
       "    <tr>\n",
       "      <th>0</th>\n",
       "      <td>0.498000</td>\n",
       "      <td>WEATHER</td>\n",
       "      <td>RF_Balanced</td>\n",
       "    </tr>\n",
       "    <tr>\n",
       "      <th>1</th>\n",
       "      <td>0.460887</td>\n",
       "      <td>PEDROWNOTGRNT</td>\n",
       "      <td>RF_Balanced</td>\n",
       "    </tr>\n",
       "    <tr>\n",
       "      <th>2</th>\n",
       "      <td>0.022657</td>\n",
       "      <td>UNDERINFL</td>\n",
       "      <td>RF_Balanced</td>\n",
       "    </tr>\n",
       "    <tr>\n",
       "      <th>3</th>\n",
       "      <td>0.018456</td>\n",
       "      <td>SPEEDING</td>\n",
       "      <td>RF_Balanced</td>\n",
       "    </tr>\n",
       "  </tbody>\n",
       "</table>\n",
       "</div>"
      ],
      "text/plain": [
       "      Score        Feature  Model_Dataset\n",
       "0  0.626889  PEDROWNOTGRNT  DT_Unbalanced\n",
       "1  0.329815        WEATHER  DT_Unbalanced\n",
       "2  0.024272      UNDERINFL  DT_Unbalanced\n",
       "3  0.019024       SPEEDING  DT_Unbalanced\n",
       "0  0.613156  PEDROWNOTGRNT  RF_Unbalanced\n",
       "1  0.337808        WEATHER  RF_Unbalanced\n",
       "2  0.027631      UNDERINFL  RF_Unbalanced\n",
       "3  0.021405       SPEEDING  RF_Unbalanced\n",
       "0  0.518484        WEATHER    DT_Balanced\n",
       "1  0.446723  PEDROWNOTGRNT    DT_Balanced\n",
       "2  0.019730      UNDERINFL    DT_Balanced\n",
       "3  0.015063       SPEEDING    DT_Balanced\n",
       "0  0.498000        WEATHER    RF_Balanced\n",
       "1  0.460887  PEDROWNOTGRNT    RF_Balanced\n",
       "2  0.022657      UNDERINFL    RF_Balanced\n",
       "3  0.018456       SPEEDING    RF_Balanced"
      ]
     },
     "execution_count": 101,
     "metadata": {},
     "output_type": "execute_result"
    }
   ],
   "source": [
    "# Combine df's created in respective models\n",
    "combine = [importance_un_DT_df, importance_un_RF_df, importance_b_DT_df, importance_b_RF_df]\n",
    "importance_all = pd.concat(combine)\n",
    "importance_all"
   ]
  },
  {
   "cell_type": "code",
   "execution_count": 99,
   "metadata": {},
   "outputs": [
    {
     "data": {
      "text/html": [
       "<div>\n",
       "<style scoped>\n",
       "    .dataframe tbody tr th:only-of-type {\n",
       "        vertical-align: middle;\n",
       "    }\n",
       "\n",
       "    .dataframe tbody tr th {\n",
       "        vertical-align: top;\n",
       "    }\n",
       "\n",
       "    .dataframe thead th {\n",
       "        text-align: right;\n",
       "    }\n",
       "</style>\n",
       "<table border=\"1\" class=\"dataframe\">\n",
       "  <thead>\n",
       "    <tr style=\"text-align: right;\">\n",
       "      <th></th>\n",
       "      <th>Score</th>\n",
       "    </tr>\n",
       "    <tr>\n",
       "      <th>Feature</th>\n",
       "      <th></th>\n",
       "    </tr>\n",
       "  </thead>\n",
       "  <tbody>\n",
       "    <tr>\n",
       "      <th>PEDROWNOTGRNT</th>\n",
       "      <td>0.536914</td>\n",
       "    </tr>\n",
       "    <tr>\n",
       "      <th>SPEEDING</th>\n",
       "      <td>0.018487</td>\n",
       "    </tr>\n",
       "    <tr>\n",
       "      <th>UNDERINFL</th>\n",
       "      <td>0.023572</td>\n",
       "    </tr>\n",
       "    <tr>\n",
       "      <th>WEATHER</th>\n",
       "      <td>0.421027</td>\n",
       "    </tr>\n",
       "  </tbody>\n",
       "</table>\n",
       "</div>"
      ],
      "text/plain": [
       "                  Score\n",
       "Feature                \n",
       "PEDROWNOTGRNT  0.536914\n",
       "SPEEDING       0.018487\n",
       "UNDERINFL      0.023572\n",
       "WEATHER        0.421027"
      ]
     },
     "execution_count": 99,
     "metadata": {},
     "output_type": "execute_result"
    }
   ],
   "source": [
    "# Df of average importance score per feature across the 2 models and 2 dataset types\n",
    "# recap: 2 models are Decision Tree and Random Forests and the dataset types are balanced & unbalanced\n",
    "importance_feature_average= importance_all.groupby(['Feature']).mean()\n",
    "importance_feature_average"
   ]
  },
  {
   "cell_type": "code",
   "execution_count": 106,
   "metadata": {},
   "outputs": [
    {
     "data": {
      "image/png": "[encoded data removed]",
      "text/plain": [
       "<Figure size 504x360 with 1 Axes>"
      ]
     },
     "metadata": {
      "needs_background": "light"
     },
     "output_type": "display_data"
    }
   ],
   "source": [
    "# Visualization of feature average importance scores \n",
    "importance_feature_average.plot(kind='bar', figsize=(7, 5))\n",
    "plt.xlabel('Feature') \n",
    "plt.ylabel('Ave Importance Score') \n",
    "plt.title('Feature Average Importance: Decision Tree & Random Forest Models with Balanced and Unbalanced Datasets') \n",
    "plt.xticks(rotation=360)\n",
    "plt.show()"
   ]
  },
  {
   "cell_type": "code",
   "execution_count": null,
   "metadata": {},
   "outputs": [],
   "source": []
  }
 ],
 "metadata": {
  "kernelspec": {
   "display_name": "Python",
   "language": "python",
   "name": "conda-env-python-py"
  },
  "language_info": {
   "codemirror_mode": {
    "name": "ipython",
    "version": 3
   },
   "file_extension": ".py",
   "mimetype": "text/x-python",
   "name": "python",
   "nbconvert_exporter": "python",
   "pygments_lexer": "ipython3",
   "version": "3.6.11"
  }
 },
 "nbformat": 4,
 "nbformat_minor": 4
}
